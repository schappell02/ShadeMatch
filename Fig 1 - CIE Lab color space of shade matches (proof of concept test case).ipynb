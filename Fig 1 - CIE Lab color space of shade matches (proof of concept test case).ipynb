{
 "cells": [
  {
   "cell_type": "code",
   "execution_count": 4,
   "metadata": {},
   "outputs": [
    {
     "ename": "ImportError",
     "evalue": "cannot import name HTMLExporter",
     "output_type": "error",
     "traceback": [
      "\u001b[0;31m---------------------------------------------------------------------------\u001b[0m",
      "\u001b[0;31mImportError\u001b[0m                               Traceback (most recent call last)",
      "\u001b[0;32m<ipython-input-4-4daabdb14024>\u001b[0m in \u001b[0;36m<module>\u001b[0;34m()\u001b[0m\n\u001b[1;32m      1\u001b[0m \u001b[0;31m#import nbconvert\u001b[0m\u001b[0;34m\u001b[0m\u001b[0;34m\u001b[0m\u001b[0m\n\u001b[0;32m----> 2\u001b[0;31m \u001b[0;32mimport\u001b[0m \u001b[0mpublisher\u001b[0m\u001b[0;34m\u001b[0m\u001b[0m\n\u001b[0m\u001b[1;32m      3\u001b[0m publisher.publish('Plotly Offline','/python/offline','Plotly Offline for IPython Notebooks',\n\u001b[1;32m      4\u001b[0m                   'Fig 1 - CIE Lab color space of shade matches',uses_plotly_offline=True)\n",
      "\u001b[0;32m/anaconda3/envs/condasc/lib/python2.7/site-packages/publisher/__init__.py\u001b[0m in \u001b[0;36m<module>\u001b[0;34m()\u001b[0m\n\u001b[0;32m----> 1\u001b[0;31m \u001b[0;32mfrom\u001b[0m \u001b[0;34m.\u001b[0m\u001b[0mpublisher\u001b[0m \u001b[0;32mimport\u001b[0m \u001b[0mpublish\u001b[0m\u001b[0;34m\u001b[0m\u001b[0m\n\u001b[0m",
      "\u001b[0;32m/anaconda3/envs/condasc/lib/python2.7/site-packages/publisher/publisher.py\u001b[0m in \u001b[0;36m<module>\u001b[0;34m()\u001b[0m\n\u001b[1;32m      1\u001b[0m \u001b[0;31m# Prepare the notebook for publication\u001b[0m\u001b[0;34m\u001b[0m\u001b[0;34m\u001b[0m\u001b[0m\n\u001b[0;32m----> 2\u001b[0;31m \u001b[0;32mfrom\u001b[0m \u001b[0mIPython\u001b[0m\u001b[0;34m.\u001b[0m\u001b[0mnbconvert\u001b[0m \u001b[0;32mimport\u001b[0m \u001b[0mHTMLExporter\u001b[0m\u001b[0;34m\u001b[0m\u001b[0m\n\u001b[0m\u001b[1;32m      3\u001b[0m \u001b[0;32mimport\u001b[0m \u001b[0mjson\u001b[0m\u001b[0;34m\u001b[0m\u001b[0m\n\u001b[1;32m      4\u001b[0m \u001b[0;32mimport\u001b[0m \u001b[0mos\u001b[0m\u001b[0;34m\u001b[0m\u001b[0m\n\u001b[1;32m      5\u001b[0m \u001b[0;32mimport\u001b[0m \u001b[0mwarnings\u001b[0m\u001b[0;34m\u001b[0m\u001b[0m\n",
      "\u001b[0;31mImportError\u001b[0m: cannot import name HTMLExporter"
     ]
    }
   ],
   "source": [
    "#import nbconvert\n",
    "import publisher\n",
    "publisher.publish('Plotly Offline','/python/offline','Plotly Offline for IPython Notebooks',\n",
    "                  'Fig 1 - CIE Lab color space of shade matches',uses_plotly_offline=True)"
   ]
  },
  {
   "cell_type": "code",
   "execution_count": 2,
   "metadata": {},
   "outputs": [
    {
     "data": {
      "text/html": [
       "<iframe id=\"igraph\" scrolling=\"no\" style=\"border:none;\" seamless=\"seamless\" src=\"https://plot.ly/~schappell02/2.embed\" height=\"525px\" width=\"700px\"></iframe>"
      ],
      "text/plain": [
       "<plotly.tools.PlotlyDisplay object>"
      ]
     },
     "execution_count": 2,
     "metadata": {},
     "output_type": "execute_result"
    }
   ],
   "source": [
    "import pandas as pd\n",
    "import numpy as np\n",
    "\n",
    "sdat = pd.read_pickle('shades_PMcGVendetta.pkl')\n",
    "\n",
    "from plotly import tools\n",
    "import plotly.plotly as ply\n",
    "import plotly.graph_objs as go\n",
    "\n",
    "rgb_colors = sdat[['swa r_rgb','swa g_rgb','swa b_rgb']].values\n",
    "colors = ['rgb('+str(int(rgb_colors[i,0]))+','+str(int(rgb_colors[i,1]))+','+str(int(rgb_colors[i,2]))+')' for i in range(rgb_colors.shape[0])]\n",
    "\n",
    "trace1 = go.Scatter3d(x=sdat['swa a_lab'].values,y=sdat['swa b_lab'].values,z=sdat['swa l_lab'].values,mode='markers',\n",
    "                      text=sdat['name'].values,marker=dict(color=colors))\n",
    "\n",
    "layout1 = go.Layout(scene = dict(xaxis = dict(title='Lab a*'),yaxis = dict(title='Lab b*'),zaxis = dict(title='Lab L*'),),\n",
    "                    width=700,margin=dict(r=20, b=10,l=10, t=10))\n",
    "fig1 = go.Figure(data=[trace1],layout=layout1)\n",
    "\n",
    "ply.iplot(fig1,filename='LabColor_scatter')\n"
   ]
  },
  {
   "cell_type": "markdown",
   "metadata": {},
   "source": [
    "Shades that are considered (according to Temptalia(R) database) matches for Pat McGrath's Vendetta lipstick (and including Pat McGrath's Vendetta lipstick) are shown in CIE  (International Commission on Illumination) Lab space. The color of each point shows its corresponding perceived (by the human eye) color for reference, demonstrating the range in both Lab color space and human perception of these supposed shade matches.\n",
    "\n",
    "CIE Lab (or Lab for short) space is designed to match the perceptual experience of the human eye. Increasing and decreasing Lab 'a*' values demonstrate more magenta and green colors respectively, increasing and decreasing Lab 'b*' values more yellow and blue colors respectively, and increasing and decreasing Lab 'L*' values demonstrate lighter and darker shades (i.e. shades with more white and black) respectively. CIE Lab space is also designed to be perceptually uniform in regards to human vision, distances of approximately equal magnitude in Lab space correspond to approximately equal difference in color as perceived by the human eye, unlike RGB color space."
   ]
  }
 ],
 "metadata": {
  "kernelspec": {
   "display_name": "Python 2",
   "language": "python",
   "name": "python2"
  },
  "language_info": {
   "codemirror_mode": {
    "name": "ipython",
    "version": 2
   },
   "file_extension": ".py",
   "mimetype": "text/x-python",
   "name": "python",
   "nbconvert_exporter": "python",
   "pygments_lexer": "ipython2",
   "version": "2.7.15"
  }
 },
 "nbformat": 4,
 "nbformat_minor": 2
}

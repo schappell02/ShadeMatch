{
 "cells": [
  {
   "cell_type": "code",
   "execution_count": 5,
   "metadata": {},
   "outputs": [
    {
     "data": {
      "text/html": [
       "<iframe id=\"igraph\" scrolling=\"no\" style=\"border:none;\" seamless=\"seamless\" src=\"https://plot.ly/~schappell02/4.embed\" height=\"525px\" width=\"100%\"></iframe>"
      ],
      "text/plain": [
       "<plotly.tools.PlotlyDisplay object>"
      ]
     },
     "execution_count": 5,
     "metadata": {},
     "output_type": "execute_result"
    }
   ],
   "source": [
    "import pandas as pd\n",
    "import numpy as np\n",
    "\n",
    "sdat = pd.read_pickle('shades_PMcGVendetta.pkl')\n",
    "\n",
    "from plotly import tools\n",
    "import plotly.plotly as ply\n",
    "import plotly.graph_objs as go\n",
    "\n",
    "trace2 = go.Scatter(y=sdat['percent'].values,x=sdat['swa lab_diff'].values,mode='markers',text=sdat['name'].values,\n",
    "                   name='Arm Swatch')\n",
    "trace3 = go.Scatter(y=sdat['percent'].values,x=sdat['art lab_diff'].values,mode='markers',text=sdat['name'].values,\n",
    "                   name='Lip Swatch - Artificial Light')\n",
    "trace4 = go.Scatter(y=sdat['percent'].values,x=sdat['nat lab_diff'].values,mode='markers',text=sdat['name'].values,\n",
    "                   name='Lip Swatch - Natural Light')\n",
    "\n",
    "layout2= go.Layout(yaxis= dict(title= 'Percent Similar (Temptalia)'),xaxis=dict(title= 'CIE Lab Absolute Difference'))\n",
    "fig2 = go.Figure(data=[trace2,trace3,trace4],layout=layout2)\n",
    "\n",
    "ply.iplot(fig2,filename='percent_LabDiff_scatter')"
   ]
  },
  {
   "cell_type": "markdown",
   "metadata": {},
   "source": [
    "Shown are the calculated color differences (from the reference shade Vendetta by Pat McGrath Labs) for the shades listed as close shade matches by the Temptalia(R) database versus their reported percent similarity to the reference shade (by the Temptalia(R) database). Color of the points demonstrate whether they are arm swatch photos or a lip application photos with either artificial or natural lighting being compared (to the corresponding photo of the reference shade).\n",
    "\n",
    "While higher percentage similarity values (or better color matches according to the Temptalia(R) database) correspond to smaller distances in CIE Lab color space generally, there are relatively large spreads in color space distances for a given percent similarity value. The Temptalia(R) database and the analysis performed here produce similar results in regard to which shades are the closest color matches for the reference shade. But the results of this proof of concept analysis show that percent similarity assignment within the Temptalia(R) database (currently the largest and most standardized makeup database is publicly available), is not adaquate in quantifying the color differences among these shades. And thus there is a lot that can be improved on to construct a rigorous cosmetic shade matching algorithm."
   ]
  },
  {
   "cell_type": "code",
   "execution_count": null,
   "metadata": {},
   "outputs": [],
   "source": []
  }
 ],
 "metadata": {
  "kernelspec": {
   "display_name": "Python 3",
   "language": "python",
   "name": "python3"
  },
  "language_info": {
   "codemirror_mode": {
    "name": "ipython",
    "version": 3
   },
   "file_extension": ".py",
   "mimetype": "text/x-python",
   "name": "python",
   "nbconvert_exporter": "python",
   "pygments_lexer": "ipython3",
   "version": "3.6.5"
  }
 },
 "nbformat": 4,
 "nbformat_minor": 2
}
